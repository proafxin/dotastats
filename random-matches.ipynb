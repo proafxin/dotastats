{
 "cells": [
  {
   "cell_type": "code",
   "execution_count": 1,
   "metadata": {},
   "outputs": [],
   "source": [
    "from pandas import read_csv\n",
    "from requests import get\n",
    "\n",
    "from helper import get_data"
   ]
  },
  {
   "cell_type": "code",
   "execution_count": 2,
   "metadata": {},
   "outputs": [],
   "source": [
    "url = 'https://api.opendota.com/api/publicMatches'"
   ]
  },
  {
   "cell_type": "code",
   "execution_count": 3,
   "metadata": {},
   "outputs": [],
   "source": [
    "df = get_data(url)"
   ]
  },
  {
   "cell_type": "code",
   "execution_count": 4,
   "metadata": {},
   "outputs": [
    {
     "data": {
      "text/html": [
       "<div>\n",
       "<style scoped>\n",
       "    .dataframe tbody tr th:only-of-type {\n",
       "        vertical-align: middle;\n",
       "    }\n",
       "\n",
       "    .dataframe tbody tr th {\n",
       "        vertical-align: top;\n",
       "    }\n",
       "\n",
       "    .dataframe thead th {\n",
       "        text-align: right;\n",
       "    }\n",
       "</style>\n",
       "<table border=\"1\" class=\"dataframe\">\n",
       "  <thead>\n",
       "    <tr style=\"text-align: right;\">\n",
       "      <th></th>\n",
       "      <th>match_id</th>\n",
       "      <th>match_seq_num</th>\n",
       "      <th>radiant_win</th>\n",
       "      <th>start_time</th>\n",
       "      <th>duration</th>\n",
       "      <th>avg_mmr</th>\n",
       "      <th>num_mmr</th>\n",
       "      <th>lobby_type</th>\n",
       "      <th>game_mode</th>\n",
       "      <th>avg_rank_tier</th>\n",
       "      <th>num_rank_tier</th>\n",
       "      <th>cluster</th>\n",
       "      <th>radiant_team</th>\n",
       "      <th>dire_team</th>\n",
       "    </tr>\n",
       "  </thead>\n",
       "  <tbody>\n",
       "    <tr>\n",
       "      <th>0</th>\n",
       "      <td>5786061813</td>\n",
       "      <td>4871972428</td>\n",
       "      <td>False</td>\n",
       "      <td>1610629363</td>\n",
       "      <td>592</td>\n",
       "      <td>3891.0</td>\n",
       "      <td>4.0</td>\n",
       "      <td>7</td>\n",
       "      <td>22</td>\n",
       "      <td>62</td>\n",
       "      <td>5</td>\n",
       "      <td>133</td>\n",
       "      <td>25,100,99,42,74</td>\n",
       "      <td>29,9,43,22,114</td>\n",
       "    </tr>\n",
       "    <tr>\n",
       "      <th>1</th>\n",
       "      <td>5786054118</td>\n",
       "      <td>4871970683</td>\n",
       "      <td>True</td>\n",
       "      <td>1610629058</td>\n",
       "      <td>557</td>\n",
       "      <td>3451.0</td>\n",
       "      <td>2.0</td>\n",
       "      <td>0</td>\n",
       "      <td>22</td>\n",
       "      <td>32</td>\n",
       "      <td>2</td>\n",
       "      <td>155</td>\n",
       "      <td>73,75,84,18,104</td>\n",
       "      <td>102,107,22,85,93</td>\n",
       "    </tr>\n",
       "    <tr>\n",
       "      <th>2</th>\n",
       "      <td>5786053001</td>\n",
       "      <td>4871977451</td>\n",
       "      <td>True</td>\n",
       "      <td>1610629011</td>\n",
       "      <td>1122</td>\n",
       "      <td>4709.0</td>\n",
       "      <td>5.0</td>\n",
       "      <td>7</td>\n",
       "      <td>3</td>\n",
       "      <td>79</td>\n",
       "      <td>10</td>\n",
       "      <td>223</td>\n",
       "      <td>32,13,53,119,38</td>\n",
       "      <td>11,41,27,100,60</td>\n",
       "    </tr>\n",
       "    <tr>\n",
       "      <th>3</th>\n",
       "      <td>5786051306</td>\n",
       "      <td>4871975997</td>\n",
       "      <td>True</td>\n",
       "      <td>1610628949</td>\n",
       "      <td>1201</td>\n",
       "      <td>3768.0</td>\n",
       "      <td>1.0</td>\n",
       "      <td>7</td>\n",
       "      <td>22</td>\n",
       "      <td>64</td>\n",
       "      <td>7</td>\n",
       "      <td>134</td>\n",
       "      <td>31,61,88,54,51</td>\n",
       "      <td>13,56,123,99,75</td>\n",
       "    </tr>\n",
       "    <tr>\n",
       "      <th>4</th>\n",
       "      <td>5786049618</td>\n",
       "      <td>4871970445</td>\n",
       "      <td>True</td>\n",
       "      <td>1610628881</td>\n",
       "      <td>1002</td>\n",
       "      <td>NaN</td>\n",
       "      <td>NaN</td>\n",
       "      <td>0</td>\n",
       "      <td>4</td>\n",
       "      <td>27</td>\n",
       "      <td>2</td>\n",
       "      <td>185</td>\n",
       "      <td>39,32,110,71,100</td>\n",
       "      <td>54,59,103,36,28</td>\n",
       "    </tr>\n",
       "  </tbody>\n",
       "</table>\n",
       "</div>"
      ],
      "text/plain": [
       "     match_id  match_seq_num  radiant_win  start_time  duration  avg_mmr  \\\n",
       "0  5786061813     4871972428        False  1610629363       592   3891.0   \n",
       "1  5786054118     4871970683         True  1610629058       557   3451.0   \n",
       "2  5786053001     4871977451         True  1610629011      1122   4709.0   \n",
       "3  5786051306     4871975997         True  1610628949      1201   3768.0   \n",
       "4  5786049618     4871970445         True  1610628881      1002      NaN   \n",
       "\n",
       "   num_mmr  lobby_type  game_mode  avg_rank_tier  num_rank_tier  cluster  \\\n",
       "0      4.0           7         22             62              5      133   \n",
       "1      2.0           0         22             32              2      155   \n",
       "2      5.0           7          3             79             10      223   \n",
       "3      1.0           7         22             64              7      134   \n",
       "4      NaN           0          4             27              2      185   \n",
       "\n",
       "       radiant_team         dire_team  \n",
       "0   25,100,99,42,74    29,9,43,22,114  \n",
       "1   73,75,84,18,104  102,107,22,85,93  \n",
       "2   32,13,53,119,38   11,41,27,100,60  \n",
       "3    31,61,88,54,51   13,56,123,99,75  \n",
       "4  39,32,110,71,100   54,59,103,36,28  "
      ]
     },
     "execution_count": 4,
     "metadata": {},
     "output_type": "execute_result"
    }
   ],
   "source": [
    "df.head()"
   ]
  },
  {
   "cell_type": "code",
   "execution_count": 5,
   "metadata": {},
   "outputs": [
    {
     "data": {
      "text/plain": [
       "(100, 14)"
      ]
     },
     "execution_count": 5,
     "metadata": {},
     "output_type": "execute_result"
    }
   ],
   "source": [
    "df.shape"
   ]
  },
  {
   "cell_type": "code",
   "execution_count": null,
   "metadata": {},
   "outputs": [],
   "source": []
  }
 ],
 "metadata": {
  "kernelspec": {
   "display_name": "Python 3",
   "language": "python",
   "name": "python3"
  },
  "language_info": {
   "codemirror_mode": {
    "name": "ipython",
    "version": 3
   },
   "file_extension": ".py",
   "mimetype": "text/x-python",
   "name": "python",
   "nbconvert_exporter": "python",
   "pygments_lexer": "ipython3",
   "version": "3.8.7"
  }
 },
 "nbformat": 4,
 "nbformat_minor": 4
}
