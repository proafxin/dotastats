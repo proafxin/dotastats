{
 "cells": [
  {
   "cell_type": "code",
   "execution_count": 1,
   "id": "exposed-fundamental",
   "metadata": {},
   "outputs": [],
   "source": [
    "from helper import get_data"
   ]
  },
  {
   "cell_type": "code",
   "execution_count": 2,
   "id": "revolutionary-socket",
   "metadata": {},
   "outputs": [],
   "source": [
    "def get_better_heroes(account_id):\n",
    "    url = 'https://api.opendota.com/api/players/{}/heroes'\n",
    "    url = url.format(account_id)\n",
    "    df = get_data(url)\n",
    "    df['win_rate'] = df['win']/df['games']*100.0\n",
    "    \n",
    "    return df[(df['games'] >= 50) & (df['win_rate'] >= 55.0)]"
   ]
  },
  {
   "cell_type": "code",
   "execution_count": 3,
   "id": "little-sapphire",
   "metadata": {},
   "outputs": [],
   "source": [
    "account_id = 341689373\n",
    "heroes = get_better_heroes(account_id)"
   ]
  },
  {
   "cell_type": "code",
   "execution_count": 4,
   "id": "systematic-discrimination",
   "metadata": {},
   "outputs": [
    {
     "data": {
      "text/html": [
       "<div>\n",
       "<style scoped>\n",
       "    .dataframe tbody tr th:only-of-type {\n",
       "        vertical-align: middle;\n",
       "    }\n",
       "\n",
       "    .dataframe tbody tr th {\n",
       "        vertical-align: top;\n",
       "    }\n",
       "\n",
       "    .dataframe thead th {\n",
       "        text-align: right;\n",
       "    }\n",
       "</style>\n",
       "<table border=\"1\" class=\"dataframe\">\n",
       "  <thead>\n",
       "    <tr style=\"text-align: right;\">\n",
       "      <th></th>\n",
       "      <th>hero_id</th>\n",
       "      <th>last_played</th>\n",
       "      <th>games</th>\n",
       "      <th>win</th>\n",
       "      <th>with_games</th>\n",
       "      <th>with_win</th>\n",
       "      <th>against_games</th>\n",
       "      <th>against_win</th>\n",
       "      <th>win_rate</th>\n",
       "    </tr>\n",
       "  </thead>\n",
       "  <tbody>\n",
       "    <tr>\n",
       "      <th>0</th>\n",
       "      <td>8</td>\n",
       "      <td>1612433889</td>\n",
       "      <td>558</td>\n",
       "      <td>337</td>\n",
       "      <td>334</td>\n",
       "      <td>183</td>\n",
       "      <td>467</td>\n",
       "      <td>235</td>\n",
       "      <td>60.394265</td>\n",
       "    </tr>\n",
       "    <tr>\n",
       "      <th>2</th>\n",
       "      <td>1</td>\n",
       "      <td>1612296204</td>\n",
       "      <td>420</td>\n",
       "      <td>243</td>\n",
       "      <td>293</td>\n",
       "      <td>148</td>\n",
       "      <td>417</td>\n",
       "      <td>222</td>\n",
       "      <td>57.857143</td>\n",
       "    </tr>\n",
       "    <tr>\n",
       "      <th>3</th>\n",
       "      <td>44</td>\n",
       "      <td>1610404077</td>\n",
       "      <td>230</td>\n",
       "      <td>145</td>\n",
       "      <td>482</td>\n",
       "      <td>270</td>\n",
       "      <td>710</td>\n",
       "      <td>375</td>\n",
       "      <td>63.043478</td>\n",
       "    </tr>\n",
       "    <tr>\n",
       "      <th>7</th>\n",
       "      <td>48</td>\n",
       "      <td>1594392785</td>\n",
       "      <td>101</td>\n",
       "      <td>69</td>\n",
       "      <td>161</td>\n",
       "      <td>97</td>\n",
       "      <td>215</td>\n",
       "      <td>111</td>\n",
       "      <td>68.316832</td>\n",
       "    </tr>\n",
       "    <tr>\n",
       "      <th>8</th>\n",
       "      <td>6</td>\n",
       "      <td>1597682528</td>\n",
       "      <td>77</td>\n",
       "      <td>44</td>\n",
       "      <td>293</td>\n",
       "      <td>160</td>\n",
       "      <td>399</td>\n",
       "      <td>209</td>\n",
       "      <td>57.142857</td>\n",
       "    </tr>\n",
       "    <tr>\n",
       "      <th>9</th>\n",
       "      <td>41</td>\n",
       "      <td>1584814944</td>\n",
       "      <td>77</td>\n",
       "      <td>43</td>\n",
       "      <td>194</td>\n",
       "      <td>106</td>\n",
       "      <td>287</td>\n",
       "      <td>161</td>\n",
       "      <td>55.844156</td>\n",
       "    </tr>\n",
       "    <tr>\n",
       "      <th>10</th>\n",
       "      <td>93</td>\n",
       "      <td>1610487919</td>\n",
       "      <td>70</td>\n",
       "      <td>40</td>\n",
       "      <td>267</td>\n",
       "      <td>134</td>\n",
       "      <td>367</td>\n",
       "      <td>197</td>\n",
       "      <td>57.142857</td>\n",
       "    </tr>\n",
       "    <tr>\n",
       "      <th>12</th>\n",
       "      <td>62</td>\n",
       "      <td>1611923525</td>\n",
       "      <td>56</td>\n",
       "      <td>34</td>\n",
       "      <td>191</td>\n",
       "      <td>109</td>\n",
       "      <td>200</td>\n",
       "      <td>122</td>\n",
       "      <td>60.714286</td>\n",
       "    </tr>\n",
       "  </tbody>\n",
       "</table>\n",
       "</div>"
      ],
      "text/plain": [
       "   hero_id  last_played  games  win  with_games  with_win  against_games  \\\n",
       "0        8   1612433889    558  337         334       183            467   \n",
       "2        1   1612296204    420  243         293       148            417   \n",
       "3       44   1610404077    230  145         482       270            710   \n",
       "7       48   1594392785    101   69         161        97            215   \n",
       "8        6   1597682528     77   44         293       160            399   \n",
       "9       41   1584814944     77   43         194       106            287   \n",
       "10      93   1610487919     70   40         267       134            367   \n",
       "12      62   1611923525     56   34         191       109            200   \n",
       "\n",
       "    against_win   win_rate  \n",
       "0           235  60.394265  \n",
       "2           222  57.857143  \n",
       "3           375  63.043478  \n",
       "7           111  68.316832  \n",
       "8           209  57.142857  \n",
       "9           161  55.844156  \n",
       "10          197  57.142857  \n",
       "12          122  60.714286  "
      ]
     },
     "execution_count": 4,
     "metadata": {},
     "output_type": "execute_result"
    }
   ],
   "source": [
    "heroes"
   ]
  },
  {
   "cell_type": "code",
   "execution_count": 5,
   "id": "forced-poverty",
   "metadata": {},
   "outputs": [
    {
     "data": {
      "text/plain": [
       "(8, 9)"
      ]
     },
     "execution_count": 5,
     "metadata": {},
     "output_type": "execute_result"
    }
   ],
   "source": [
    "heroes.shape"
   ]
  }
 ],
 "metadata": {
  "kernelspec": {
   "display_name": "Python 3",
   "language": "python",
   "name": "python3"
  },
  "language_info": {
   "codemirror_mode": {
    "name": "ipython",
    "version": 3
   },
   "file_extension": ".py",
   "mimetype": "text/x-python",
   "name": "python",
   "nbconvert_exporter": "python",
   "pygments_lexer": "ipython3",
   "version": "3.8.7"
  }
 },
 "nbformat": 4,
 "nbformat_minor": 5
}
