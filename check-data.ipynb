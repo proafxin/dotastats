{
 "cells": [
  {
   "cell_type": "code",
   "execution_count": 1,
   "metadata": {},
   "outputs": [],
   "source": [
    "from helper import get_data"
   ]
  },
  {
   "cell_type": "code",
   "execution_count": 2,
   "metadata": {},
   "outputs": [],
   "source": [
    "url = 'https://api.opendota.com/api/heroes/1/matches'"
   ]
  },
  {
   "cell_type": "code",
   "execution_count": 3,
   "metadata": {},
   "outputs": [],
   "source": [
    "df = get_data(url)"
   ]
  },
  {
   "cell_type": "code",
   "execution_count": 4,
   "metadata": {},
   "outputs": [
    {
     "data": {
      "text/html": [
       "<div>\n",
       "<style scoped>\n",
       "    .dataframe tbody tr th:only-of-type {\n",
       "        vertical-align: middle;\n",
       "    }\n",
       "\n",
       "    .dataframe tbody tr th {\n",
       "        vertical-align: top;\n",
       "    }\n",
       "\n",
       "    .dataframe thead th {\n",
       "        text-align: right;\n",
       "    }\n",
       "</style>\n",
       "<table border=\"1\" class=\"dataframe\">\n",
       "  <thead>\n",
       "    <tr style=\"text-align: right;\">\n",
       "      <th></th>\n",
       "      <th>match_id</th>\n",
       "      <th>start_time</th>\n",
       "      <th>duration</th>\n",
       "      <th>radiant_win</th>\n",
       "      <th>leagueid</th>\n",
       "      <th>league_name</th>\n",
       "      <th>radiant</th>\n",
       "      <th>player_slot</th>\n",
       "      <th>account_id</th>\n",
       "      <th>kills</th>\n",
       "      <th>deaths</th>\n",
       "      <th>assists</th>\n",
       "    </tr>\n",
       "  </thead>\n",
       "  <tbody>\n",
       "    <tr>\n",
       "      <th>0</th>\n",
       "      <td>5785780992</td>\n",
       "      <td>1610614544</td>\n",
       "      <td>1485</td>\n",
       "      <td>False</td>\n",
       "      <td>12093</td>\n",
       "      <td>YouTube SIVVIT - Big Russian Show</td>\n",
       "      <td>True</td>\n",
       "      <td>131</td>\n",
       "      <td>1015938453</td>\n",
       "      <td>8</td>\n",
       "      <td>0</td>\n",
       "      <td>1</td>\n",
       "    </tr>\n",
       "    <tr>\n",
       "      <th>1</th>\n",
       "      <td>5782367255</td>\n",
       "      <td>1610383251</td>\n",
       "      <td>2046</td>\n",
       "      <td>True</td>\n",
       "      <td>12717</td>\n",
       "      <td>DPC Winter 21 Qualifier (CIS) presented by ESL...</td>\n",
       "      <td>False</td>\n",
       "      <td>129</td>\n",
       "      <td>195108598</td>\n",
       "      <td>3</td>\n",
       "      <td>2</td>\n",
       "      <td>0</td>\n",
       "    </tr>\n",
       "    <tr>\n",
       "      <th>2</th>\n",
       "      <td>5781967957</td>\n",
       "      <td>1610366499</td>\n",
       "      <td>2369</td>\n",
       "      <td>False</td>\n",
       "      <td>12093</td>\n",
       "      <td>YouTube SIVVIT - Big Russian Show</td>\n",
       "      <td>True</td>\n",
       "      <td>131</td>\n",
       "      <td>199397609</td>\n",
       "      <td>13</td>\n",
       "      <td>2</td>\n",
       "      <td>4</td>\n",
       "    </tr>\n",
       "    <tr>\n",
       "      <th>3</th>\n",
       "      <td>5781023114</td>\n",
       "      <td>1610298003</td>\n",
       "      <td>1953</td>\n",
       "      <td>False</td>\n",
       "      <td>12719</td>\n",
       "      <td>DPC Winter 21 Qualifier (EU) presented by Drea...</td>\n",
       "      <td>True</td>\n",
       "      <td>128</td>\n",
       "      <td>177203952</td>\n",
       "      <td>9</td>\n",
       "      <td>0</td>\n",
       "      <td>11</td>\n",
       "    </tr>\n",
       "    <tr>\n",
       "      <th>4</th>\n",
       "      <td>5781022024</td>\n",
       "      <td>1610297954</td>\n",
       "      <td>1153</td>\n",
       "      <td>True</td>\n",
       "      <td>12717</td>\n",
       "      <td>DPC Winter 21 Qualifier (CIS) presented by ESL...</td>\n",
       "      <td>False</td>\n",
       "      <td>129</td>\n",
       "      <td>384612769</td>\n",
       "      <td>0</td>\n",
       "      <td>6</td>\n",
       "      <td>0</td>\n",
       "    </tr>\n",
       "  </tbody>\n",
       "</table>\n",
       "</div>"
      ],
      "text/plain": [
       "     match_id  start_time  duration  radiant_win  leagueid  ... player_slot  account_id  kills  deaths  assists\n",
       "0  5785780992  1610614544      1485        False     12093  ...         131  1015938453      8       0        1\n",
       "1  5782367255  1610383251      2046         True     12717  ...         129   195108598      3       2        0\n",
       "2  5781967957  1610366499      2369        False     12093  ...         131   199397609     13       2        4\n",
       "3  5781023114  1610298003      1953        False     12719  ...         128   177203952      9       0       11\n",
       "4  5781022024  1610297954      1153         True     12717  ...         129   384612769      0       6        0\n",
       "\n",
       "[5 rows x 12 columns]"
      ]
     },
     "execution_count": 4,
     "metadata": {},
     "output_type": "execute_result"
    }
   ],
   "source": [
    "df.head()"
   ]
  },
  {
   "cell_type": "code",
   "execution_count": 5,
   "metadata": {},
   "outputs": [
    {
     "data": {
      "text/plain": [
       "(100, 12)"
      ]
     },
     "execution_count": 5,
     "metadata": {},
     "output_type": "execute_result"
    }
   ],
   "source": [
    "df.shape"
   ]
  },
  {
   "cell_type": "code",
   "execution_count": null,
   "metadata": {},
   "outputs": [],
   "source": []
  }
 ],
 "metadata": {
  "kernelspec": {
   "display_name": "Python 3",
   "language": "python",
   "name": "python3"
  },
  "language_info": {
   "codemirror_mode": {
    "name": "ipython",
    "version": 3
   },
   "file_extension": ".py",
   "mimetype": "text/x-python",
   "name": "python",
   "nbconvert_exporter": "python",
   "pygments_lexer": "ipython3",
   "version": "3.8.7"
  }
 },
 "nbformat": 4,
 "nbformat_minor": 4
}
